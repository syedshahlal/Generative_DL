{
  "nbformat": 4,
  "nbformat_minor": 0,
  "metadata": {
    "colab": {
      "provenance": [],
      "gpuType": "T4",
      "authorship_tag": "ABX9TyP8gBfoLfxpxbckVlAgCtTe",
      "include_colab_link": true
    },
    "kernelspec": {
      "name": "python3",
      "display_name": "Python 3"
    },
    "language_info": {
      "name": "python"
    },
    "accelerator": "GPU"
  },
  "cells": [
    {
      "cell_type": "markdown",
      "metadata": {
        "id": "view-in-github",
        "colab_type": "text"
      },
      "source": [
        "<a href=\"https://colab.research.google.com/github/syedshahlal/Generative_DL/blob/main/Convolution_Neural_Network_(CNN).ipynb\" target=\"_parent\"><img src=\"https://colab.research.google.com/assets/colab-badge.svg\" alt=\"Open In Colab\"/></a>"
      ]
    },
    {
      "cell_type": "markdown",
      "source": [
        "#**Convolution Neural Networks (CNN)**\n",
        "\n",
        "Convolutional Neural Networks (CNNs) applied to text for natural language processing (NLP) tasks."
      ],
      "metadata": {
        "id": "yNbDwnuG-fRJ"
      }
    },
    {
      "cell_type": "markdown",
      "source": [
        "##**Overview**\n",
        "\n",
        "At the core of CNNs are filters (aka weights, kernels, etc.) which convolve (slide) across our input to extract relevant features. The filters are initialized randomly but learn to act as feature extractors via parameter sharing.\n"
      ],
      "metadata": {
        "id": "MFDs798t-lbi"
      }
    },
    {
      "cell_type": "code",
      "execution_count": 4,
      "metadata": {
        "colab": {
          "base_uri": "https://localhost:8080/",
          "height": 260
        },
        "id": "tRKkQcuz-H6q",
        "outputId": "e240e396-95d0-400a-dbb7-6432704d62ad"
      },
      "outputs": [
        {
          "output_type": "execute_result",
          "data": {
            "text/html": [
              "<img src=\"https://madewithml.com/static/images/foundations/cnn/convolution.gif\"/>"
            ],
            "text/plain": [
              "<IPython.core.display.Image object>"
            ]
          },
          "metadata": {},
          "execution_count": 4
        }
      ],
      "source": [
        "from IPython.display import Image\n",
        "\n",
        "Image(url='https://madewithml.com/static/images/foundations/cnn/convolution.gif')"
      ]
    },
    {
      "cell_type": "markdown",
      "source": [
        "* ### **Objective:**\n",
        "\n",
        "  * Extract meaningful spatial substructure from encoded data.\n",
        "\n",
        "* ### **Advantages:**\n",
        "  * Small number of weights (shared)\n",
        "  * Parallelizable\n",
        "  * Detects spatial substrcutures (feature extractors)\n",
        "  * Interpretability via filters\n",
        "  * Can be used for processing in images, text, time-series, etc.\n",
        "\n",
        "* ### **Disadvantages:**\n",
        "  * Many hyperparameters (kernel size, strides, etc.) to tune.\n",
        "\n",
        "* ### **Miscellaneous:**\n",
        "  * Lot's of deep CNN architectures constantly updated for SOTA performance.\n",
        "  * Very popular feature extractor that acts as a foundation for many\n",
        "  architectures."
      ],
      "metadata": {
        "id": "WffxRQB5_kWY"
      }
    },
    {
      "cell_type": "markdown",
      "source": [
        "## **Setup**\n",
        "Let's set our seed and device."
      ],
      "metadata": {
        "id": "19i95-UMASH5"
      }
    },
    {
      "cell_type": "code",
      "source": [
        "import numpy as np\n",
        "import pandas as pd\n",
        "import random\n",
        "import torch\n",
        "import torch.nn as nn"
      ],
      "metadata": {
        "id": "OpZONG1o-Sw4"
      },
      "execution_count": 5,
      "outputs": []
    },
    {
      "cell_type": "code",
      "source": [],
      "metadata": {
        "id": "_txUBXQxAh9k"
      },
      "execution_count": null,
      "outputs": []
    }
  ]
}